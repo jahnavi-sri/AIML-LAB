{
 "cells": [
  {
   "cell_type": "code",
   "execution_count": 15,
   "id": "74b1dc01",
   "metadata": {},
   "outputs": [
    {
     "name": "stdout",
     "output_type": "stream",
     "text": [
      "    ATTENDANCE  MARKS  CERTIFICATIONS  BACKLOGS\n",
      "0           70     75               2         1\n",
      "1           71     76               3         1\n",
      "2           72     77               1         0\n",
      "3           73     78               2         1\n",
      "4           74     79               3         2\n",
      "5           75     80               1         1\n",
      "6           76     81               2         1\n",
      "7           77     82               1         0\n",
      "8           78     83               3         0\n",
      "9           79     84               1         0\n",
      "10          80     85               3         0\n",
      "11          81     86               2         0\n",
      "12          82     87               2         0\n",
      "13          83     88               1         0\n",
      "14          84     89               3         0\n",
      "15          85     90               1         0\n",
      "16          86     91               2         0\n",
      "17          87     92               3         0\n",
      "18          88     93               1         1\n",
      "19          89     94               5         0\n"
     ]
    }
   ],
   "source": [
    "import pandas as pd\n",
    "import matplotlib.pyplot as plt\n",
    "from sklearn.linear_model import LinearRegression\n",
    "from sklearn.preprocessing import PolynomialFeatures\n",
    "from sklearn.metrics import r2_score, mean_squared_error\n",
    "from sklearn.model_selection import train_test_split\n",
    "df=pd.read_csv('MARKS.CSV')\n",
    "print(df)\n"
   ]
  },
  {
   "cell_type": "code",
   "execution_count": 16,
   "id": "507cf442",
   "metadata": {},
   "outputs": [
    {
     "name": "stdout",
     "output_type": "stream",
     "text": [
      "(20, 1)\n",
      "(20,)\n",
      "R2 score:  1.0\n",
      "error:  4.1325369196555427e-22\n"
     ]
    }
   ],
   "source": [
    "X=df[['ATTENDANCE']]\n",
    "y=df['MARKS']\n",
    "print(x.shape)\n",
    "print(y.shape)\n",
    "X_train, X_test, y_train, y_test=train_test_split(X,y,test_size=0.3)\n",
    "poly=PolynomialFeatures(degree=3)\n",
    "X_poly_train=poly.fit_transform(X_train)\n",
    "model=LinearRegression()\n",
    "model.fit(X_poly_train, y_train)\n",
    "X_poly_test=poly.transform(X_test)\n",
    "y_pred=model.predict(X_poly_test)\n",
    "print(\"R2 score: \", r2_score(y_test, y_pred))\n",
    "print(\"error: \", mean_squared_error(y_test, y_pred))"
   ]
  },
  {
   "cell_type": "code",
   "execution_count": 18,
   "id": "81b2dc4a",
   "metadata": {},
   "outputs": [
    {
     "name": "stdout",
     "output_type": "stream",
     "text": [
      "[97.]\n",
      "[99.]\n"
     ]
    },
    {
     "name": "stderr",
     "output_type": "stream",
     "text": [
      "C:\\ProgramData\\Anaconda3\\lib\\site-packages\\sklearn\\base.py:450: UserWarning: X does not have valid feature names, but PolynomialFeatures was fitted with feature names\n",
      "  warnings.warn(\n",
      "C:\\ProgramData\\Anaconda3\\lib\\site-packages\\sklearn\\base.py:450: UserWarning: X does not have valid feature names, but PolynomialFeatures was fitted with feature names\n",
      "  warnings.warn(\n"
     ]
    }
   ],
   "source": [
    "print(model.predict(poly.transform([[92]])))\n",
    "print(model.predict(poly.transform([[94]])))\n"
   ]
  },
  {
   "cell_type": "code",
   "execution_count": 19,
   "id": "a1e81732",
   "metadata": {},
   "outputs": [
    {
     "data": {
      "text/plain": [
       "[<matplotlib.lines.Line2D at 0x197c130a7c0>]"
      ]
     },
     "execution_count": 19,
     "metadata": {},
     "output_type": "execute_result"
    },
    {
     "data": {
      "image/png": "[encoded data removed]",
      "text/plain": [
       "<Figure size 640x480 with 1 Axes>"
      ]
     },
     "metadata": {},
     "output_type": "display_data"
    }
   ],
   "source": [
    "plt.plot(y_test,y_pred)"
   ]
  },
  {
   "cell_type": "code",
   "execution_count": null,
   "id": "65553b2c",
   "metadata": {},
   "outputs": [],
   "source": []
  }
 ],
 "metadata": {
  "kernelspec": {
   "display_name": "Python 3 (ipykernel)",
   "language": "python",
   "name": "python3"
  },
  "language_info": {
   "codemirror_mode": {
    "name": "ipython",
    "version": 3
   },
   "file_extension": ".py",
   "mimetype": "text/x-python",
   "name": "python",
   "nbconvert_exporter": "python",
   "pygments_lexer": "ipython3",
   "version": "3.9.13"
  }
 },
 "nbformat": 4,
 "nbformat_minor": 5
}
