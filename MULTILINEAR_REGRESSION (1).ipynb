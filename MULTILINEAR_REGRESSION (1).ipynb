{
 "cells": [
  {
   "cell_type": "code",
   "execution_count": 8,
   "id": "c1e3ec30",
   "metadata": {},
   "outputs": [
    {
     "name": "stdout",
     "output_type": "stream",
     "text": [
      "    ATTENDANCE  MARKS  CERTIFICATIONS  BACKLOGS\n",
      "0           70     75               2         1\n",
      "1           71     76               3         1\n",
      "2           72     77               1         0\n",
      "3           73     78               2         1\n",
      "4           74     79               3         2\n",
      "5           75     80               1         1\n",
      "6           76     81               2         1\n",
      "7           77     82               1         0\n",
      "8           78     83               3         0\n",
      "9           79     84               1         0\n",
      "10          80     85               3         0\n",
      "11          81     86               2         0\n",
      "12          82     87               2         0\n",
      "13          83     88               1         0\n",
      "14          84     89               3         0\n",
      "15          85     90               1         0\n",
      "16          86     91               2         0\n",
      "17          87     92               3         0\n",
      "18          88     93               1         1\n",
      "19          89     94               5         0\n"
     ]
    }
   ],
   "source": [
    "import pandas as pd\n",
    "\n",
    "from sklearn.linear_model import LinearRegression\n",
    "from sklearn.model_selection import train_test_split\n",
    "df=pd.read_csv(\"MARKS.CSV\")\n",
    "print(df)\n"
   ]
  },
  {
   "cell_type": "code",
   "execution_count": 32,
   "id": "7543c944",
   "metadata": {},
   "outputs": [
    {
     "name": "stdout",
     "output_type": "stream",
     "text": [
      "(20, 3)\n",
      "(20,)\n",
      "(14, 3)\n",
      "(14,)\n",
      "m= [ 1.00000000e+00 -2.73977432e-16  1.23668931e-15]\n",
      "c= 4.999999999999943\n"
     ]
    }
   ],
   "source": [
    "X=df[['ATTENDANCE','CERTIFICATIONS','BACKLOGS']]\n",
    "print(X.shape)\n",
    "y=df['MARKS']\n",
    "print(y.shape)\n",
    "X_train,X_test,y_train,y_test=train_test_split(X,y,test_size=0.3)\n",
    "model=LinearRegression()\n",
    "print(X_train.shape)\n",
    "print(y_train.shape)\n",
    "model.fit(X_train,y_train)\n",
    "y_pred=model.predict(X_test)\n",
    "print(\"m=\",model.coef_)\n",
    "print(\"c=\",model.intercept_)"
   ]
  },
  {
   "cell_type": "code",
   "execution_count": 33,
   "id": "da87738f",
   "metadata": {},
   "outputs": [
    {
     "name": "stdout",
     "output_type": "stream",
     "text": [
      "R2 score fit 1.0\n",
      "Mean squared error: 0.0\n",
      "    Actual  Predicted\n",
      "12      87       87.0\n",
      "13      88       88.0\n",
      "18      93       93.0\n",
      "5       80       80.0\n",
      "19      94       94.0\n",
      "14      89       89.0\n"
     ]
    }
   ],
   "source": [
    "from sklearn.metrics import r2_score,mean_squared_error\n",
    "print(\"R2 score fit\",r2_score(y_test,y_pred))\n",
    "print(\"Mean squared error:\",mean_squared_error(y_test,y_pred))\n",
    "df2=pd.DataFrame({'Actual':y_test,'Predicted':y_pred})\n",
    "print(df2)"
   ]
  },
  {
   "cell_type": "code",
   "execution_count": 37,
   "id": "f07ef6f4",
   "metadata": {},
   "outputs": [
    {
     "name": "stdout",
     "output_type": "stream",
     "text": [
      "[93.]\n",
      "[95.]\n"
     ]
    },
    {
     "name": "stderr",
     "output_type": "stream",
     "text": [
      "C:\\ProgramData\\Anaconda3\\lib\\site-packages\\sklearn\\base.py:450: UserWarning: X does not have valid feature names, but LinearRegression was fitted with feature names\n",
      "  warnings.warn(\n",
      "C:\\ProgramData\\Anaconda3\\lib\\site-packages\\sklearn\\base.py:450: UserWarning: X does not have valid feature names, but LinearRegression was fitted with feature names\n",
      "  warnings.warn(\n"
     ]
    }
   ],
   "source": [
    "print(model.predict([[88,2,3]]))\n",
    "print(model.predict([[90,2,3]]))"
   ]
  },
  {
   "cell_type": "code",
   "execution_count": 38,
   "id": "762d7858",
   "metadata": {},
   "outputs": [
    {
     "data": {
      "text/plain": [
       "[<matplotlib.lines.Line2D at 0x1d940137c70>]"
      ]
     },
     "execution_count": 38,
     "metadata": {},
     "output_type": "execute_result"
    },
    {
     "data": {
      "image/png": "[encoded data removed]",
      "text/plain": [
       "<Figure size 640x480 with 1 Axes>"
      ]
     },
     "metadata": {},
     "output_type": "display_data"
    }
   ],
   "source": [
    "import matplotlib.pyplot as plt\n",
    "plt.plot(y_test, y_pred)"
   ]
  },
  {
   "cell_type": "code",
   "execution_count": null,
   "id": "b874e0f2",
   "metadata": {},
   "outputs": [],
   "source": []
  }
 ],
 "metadata": {
  "kernelspec": {
   "display_name": "Python 3 (ipykernel)",
   "language": "python",
   "name": "python3"
  },
  "language_info": {
   "codemirror_mode": {
    "name": "ipython",
    "version": 3
   },
   "file_extension": ".py",
   "mimetype": "text/x-python",
   "name": "python",
   "nbconvert_exporter": "python",
   "pygments_lexer": "ipython3",
   "version": "3.9.13"
  }
 },
 "nbformat": 4,
 "nbformat_minor": 5
}
