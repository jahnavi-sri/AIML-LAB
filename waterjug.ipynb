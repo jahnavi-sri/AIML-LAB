{
  "nbformat": 4,
  "nbformat_minor": 0,
  "metadata": {
    "colab": {
      "provenance": [],
      "authorship_tag": "ABX9TyOMzkYOXyxGG5GhBJy1xn0Y",
      "include_colab_link": true
    },
    "kernelspec": {
      "name": "python3",
      "display_name": "Python 3"
    },
    "language_info": {
      "name": "python"
    }
  },
  "cells": [
    {
      "cell_type": "markdown",
      "metadata": {
        "id": "view-in-github",
        "colab_type": "text"
      },
      "source": [
        "<a href=\"https://colab.research.google.com/github/jahnavi-sri/AIML-LAB/blob/main/waterjug.ipynb\" target=\"_parent\"><img src=\"https://colab.research.google.com/assets/colab-badge.svg\" alt=\"Open In Colab\"/></a>"
      ]
    },
    {
      "cell_type": "code",
      "execution_count": null,
      "metadata": {
        "colab": {
          "base_uri": "https://localhost:8080/"
        },
        "id": "w8TjYaZeXMA0",
        "outputId": "54e82c6c-6813-4fd9-b9ff-ef0761d212a4"
      },
      "outputs": [
        {
          "output_type": "stream",
          "name": "stdout",
          "text": [
            "Water jug problem\n",
            "enter x:0\n",
            "enter y:0\n",
            "enter rule:1\n",
            "x= 4\n",
            "y= 0\n",
            "enter rule:6\n",
            "x= 1\n",
            "y= 3\n",
            "enter rule:4\n",
            "x= 1\n",
            "y= 0\n",
            "enter rule:8\n",
            "x= 0\n",
            "y= 1\n",
            "enter rule:1\n",
            "x= 4\n",
            "y= 1\n",
            "enter rule:6\n",
            "x= 2\n",
            "y= 3\n",
            "Goal State Reached\n"
          ]
        }
      ],
      "source": [
        "print(\"Water jug problem\")\n",
        "x=int(input(\"enter x:\"))\n",
        "y=int(input(\"enter y:\"))\n",
        "\n",
        "while True:\n",
        "  rule=int(input(\"enter rule:\"))\n",
        "  if rule==1:\n",
        "    if x<4:\n",
        "      x=4\n",
        "  if rule==2:\n",
        "    if y<3:\n",
        "      y=3\n",
        "  if rule==3:\n",
        "    if x>0:\n",
        "      x=4\n",
        "  if rule==4:\n",
        "    if y>0:\n",
        "      y=0\n",
        "  if rule==5:\n",
        "    if x+y>=4 and y>0:\n",
        "      x,y=4,y-(4-x)\n",
        "  if rule==6:\n",
        "    if x+y>=3 and x>0:\n",
        "      x,y=x-(3-y),3\n",
        "  if rule==7:\n",
        "    if x+y<=4 and y>=0:\n",
        "      x,y=x+y,0\n",
        "  if rule==8:\n",
        "    if x+y<3 and x>0:\n",
        "      x,y=0,x+y\n",
        "  print(\"x=\",x)\n",
        "  print(\"y=\",y)\n",
        "  if(x==2):\n",
        "    print(\"Goal State Reached\")\n",
        "    break\n",
        "  "
      ]
    },
    {
      "cell_type": "markdown",
      "source": [],
      "metadata": {
        "id": "kNLgCcqchsF2"
      }
    },
    {
      "cell_type": "code",
      "source": [],
      "metadata": {
        "id": "cQoy1daQjpfj"
      },
      "execution_count": null,
      "outputs": []
    }
  ]
}