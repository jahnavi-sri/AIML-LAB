{
 "cells": [
  {
   "cell_type": "code",
   "execution_count": 9,
   "id": "e4cc6b57",
   "metadata": {},
   "outputs": [
    {
     "name": "stdout",
     "output_type": "stream",
     "text": [
      "    ATTENDANCE  MARKS\n",
      "0           68     79\n",
      "1           69     80\n",
      "2           70     81\n",
      "3           71     82\n",
      "4           72     83\n",
      "5           73     84\n",
      "6           74     85\n",
      "7           75     86\n",
      "8           76     87\n",
      "9           77     88\n",
      "10          78     89\n",
      "11          79     90\n",
      "12          80     91\n",
      "13          81     92\n",
      "14          82     93\n",
      "15          83     94\n",
      "16          84     95\n",
      "17          85     96\n",
      "18          86     97\n",
      "19          87     98\n"
     ]
    }
   ],
   "source": [
    "import pandas as pd\n",
    "from sklearn.linear_model import LinearRegression\n",
    "from sklearn.model_selection import train_test_split\n",
    "df=pd.read_csv(\"ATTENDANCE.CSV\")\n",
    "print(df)"
   ]
  },
  {
   "cell_type": "code",
   "execution_count": 5,
   "id": "c0edbf30",
   "metadata": {},
   "outputs": [
    {
     "name": "stdout",
     "output_type": "stream",
     "text": [
      "(20, 1)\n"
     ]
    }
   ],
   "source": [
    "x=df[['ATTENDANCE']]\n",
    "print(x.shape)"
   ]
  },
  {
   "cell_type": "code",
   "execution_count": 6,
   "id": "b59c72cf",
   "metadata": {},
   "outputs": [
    {
     "name": "stdout",
     "output_type": "stream",
     "text": [
      "(20,)\n"
     ]
    }
   ],
   "source": [
    "y=df['MARKS']\n",
    "print(y.shape)"
   ]
  },
  {
   "cell_type": "code",
   "execution_count": 10,
   "id": "f08c5854",
   "metadata": {},
   "outputs": [
    {
     "name": "stdout",
     "output_type": "stream",
     "text": [
      "R2 score:  1.0\n"
     ]
    }
   ],
   "source": [
    "x_train, x_test, y_train, y_test = train_test_split(x, y, test_size=0.3, random_state=0)\n",
    "reg = LinearRegression()\n",
    "reg.fit(x_train, y_train)\n",
    "y_pred = reg.predict(x_test)\n",
    "score = reg.score(x_test, y_test)\n",
    "print(\"R2 score: \", score)\n",
    "print(\"Mean\")"
   ]
  },
  {
   "cell_type": "code",
   "execution_count": null,
   "id": "501781a3",
   "metadata": {},
   "outputs": [],
   "source": []
  }
 ],
 "metadata": {
  "kernelspec": {
   "display_name": "Python 3 (ipykernel)",
   "language": "python",
   "name": "python3"
  },
  "language_info": {
   "codemirror_mode": {
    "name": "ipython",
    "version": 3
   },
   "file_extension": ".py",
   "mimetype": "text/x-python",
   "name": "python",
   "nbconvert_exporter": "python",
   "pygments_lexer": "ipython3",
   "version": "3.9.13"
  }
 },
 "nbformat": 4,
 "nbformat_minor": 5
}
